{
 "cells": [
  {
   "cell_type": "markdown",
   "id": "d0049bdf",
   "metadata": {},
   "source": [
    "用help(),?获取文档"
   ]
  },
  {
   "cell_type": "code",
   "execution_count": 1,
   "id": "8645f0ac",
   "metadata": {
    "scrolled": true
   },
   "outputs": [
    {
     "name": "stdout",
     "output_type": "stream",
     "text": [
      "Help on built-in function len in module builtins:\n",
      "\n",
      "len(obj, /)\n",
      "    Return the number of items in a container.\n",
      "\n"
     ]
    }
   ],
   "source": [
    "help(len)"
   ]
  },
  {
   "cell_type": "code",
   "execution_count": 12,
   "id": "a2a289a6",
   "metadata": {},
   "outputs": [],
   "source": [
    "len?"
   ]
  },
  {
   "cell_type": "code",
   "execution_count": 13,
   "id": "5ea783c9",
   "metadata": {},
   "outputs": [],
   "source": [
    "def square1(a):\n",
    "    #内嵌文档\n",
    "    \"\"\"return the square of a.\"\"\"\n",
    "    return a ** 2"
   ]
  },
  {
   "cell_type": "code",
   "execution_count": 14,
   "id": "c37a540b",
   "metadata": {},
   "outputs": [],
   "source": [
    "square1?"
   ]
  },
  {
   "cell_type": "markdown",
   "id": "2dfa13e5",
   "metadata": {},
   "source": [
    "用？？获取源代码"
   ]
  },
  {
   "cell_type": "code",
   "execution_count": 15,
   "id": "e2c14cff",
   "metadata": {},
   "outputs": [],
   "source": [
    "square1??"
   ]
  },
  {
   "cell_type": "markdown",
   "id": "ace8d8cd",
   "metadata": {},
   "source": [
    "Tab键自动补全与探索对象"
   ]
  },
  {
   "cell_type": "markdown",
   "id": "ed83eba1",
   "metadata": {},
   "source": [
    "针对对象内容而言：python本身有一个内置dir函数，可以返回一个属性与方法列表，但Tab自动补全功能更简洁，方便看对象的所有可用属性"
   ]
  },
  {
   "cell_type": "code",
   "execution_count": 20,
   "id": "a77f957c",
   "metadata": {},
   "outputs": [
    {
     "data": {
      "text/plain": [
       "<function list.clear()>"
      ]
     },
     "execution_count": 20,
     "metadata": {},
     "output_type": "execute_result"
    }
   ],
   "source": [
    "L=[1,2,3]\n",
    "#L.<TAB> 这个是指按下TAB键的意思 会弹出对象的属性列表\n",
    "L.clear\n",
    "#dir会直接弹出所有的\n",
    "#dir(L)"
   ]
  },
  {
   "cell_type": "code",
   "execution_count": 22,
   "id": "f814014f",
   "metadata": {},
   "outputs": [
    {
     "data": {
      "text/plain": [
       "<function list.copy()>"
      ]
     },
     "execution_count": 22,
     "metadata": {},
     "output_type": "execute_result"
    }
   ],
   "source": [
    "#进一步缩小列表 例如我只想查看c开头的属性\n",
    "#L.c<TAB>\n",
    "L.copy"
   ]
  },
  {
   "cell_type": "code",
   "execution_count": 23,
   "id": "fd87fb4d",
   "metadata": {},
   "outputs": [],
   "source": [
    "#python中常见的__XXX___命名的属性为私有属性\n",
    "#L._<TAB>可用于查看私有属性"
   ]
  },
  {
   "cell_type": "markdown",
   "id": "4b456530",
   "metadata": {},
   "source": [
    "针对导入对象而言：例子是查找itertoos包中co开头的所有可导入对象"
   ]
  },
  {
   "cell_type": "code",
   "execution_count": 24,
   "id": "7e289c99",
   "metadata": {},
   "outputs": [],
   "source": [
    "#from itertools import co<TAB>\n",
    "from itertools import combinations"
   ]
  },
  {
   "cell_type": "code",
   "execution_count": 26,
   "id": "bb66d1c6",
   "metadata": {},
   "outputs": [],
   "source": [
    "#也可以用来自动补全查找可导入的包\n",
    "#import <TAB>\n",
    "import numpy"
   ]
  },
  {
   "cell_type": "markdown",
   "id": "2e475bdd",
   "metadata": {},
   "source": [
    "通配符自动补全：*符号"
   ]
  },
  {
   "cell_type": "markdown",
   "id": "37a72112",
   "metadata": {},
   "source": [
    "我想寻找命名空间中以Warning结尾的所有对象"
   ]
  },
  {
   "cell_type": "code",
   "execution_count": 29,
   "id": "93b9ce93",
   "metadata": {},
   "outputs": [],
   "source": [
    "*warning?"
   ]
  },
  {
   "cell_type": "markdown",
   "id": "57c12dcf",
   "metadata": {},
   "source": [
    "IPython魔法命令：行魔法 %为前缀 用于单行输入  \n",
    "\n",
    "单元魔法 %%为前缀 用于多行输入  \n",
    "            \n",
    "常见的粘贴多行代码错误为缩进错误  \n",
    "            "
   ]
  },
  {
   "cell_type": "markdown",
   "id": "e6d945a3",
   "metadata": {},
   "source": [
    "%paste魔法函数解决多行输入问题"
   ]
  },
  {
   "cell_type": "code",
   "execution_count": 35,
   "id": "ba80d0f5",
   "metadata": {},
   "outputs": [
    {
     "name": "stderr",
     "output_type": "stream",
     "text": [
      "UsageError: Line magic function `%cpaste` not found.\n"
     ]
    }
   ],
   "source": [
    "%cpaste"
   ]
  },
  {
   "cell_type": "code",
   "execution_count": 34,
   "id": "e7528eef",
   "metadata": {},
   "outputs": [
    {
     "name": "stdout",
     "output_type": "stream",
     "text": [
      "8.15.0\n"
     ]
    }
   ],
   "source": [
    "import IPython\n",
    "print(IPython.__version__)"
   ]
  },
  {
   "cell_type": "markdown",
   "id": "7a76418b",
   "metadata": {},
   "source": [
    "IPython的输入输出对象：IPython实际创建了叫做In和out的python变量，他们会自动更新反映历史命令"
   ]
  },
  {
   "cell_type": "code",
   "execution_count": 37,
   "id": "9eb61fc6",
   "metadata": {},
   "outputs": [
    {
     "name": "stdout",
     "output_type": "stream",
     "text": [
      "['', 'help(len)', \"get_ipython().run_line_magic('pinfo', 'len')\", 'def square1(a)', 'def square1(a)\\n   \"\"\"return the square of a\"\"\"\\n    return a**2', 'def square1(a):\\n   \"\"\"return the square of a\"\"\"\\n    return a**2', 'def square1(a):\\n   \"\"\"return the square of a\"\"\"\\n    return a ** 2', 'def square1(a):\\n   \"\"\"return the square of a.\"\"\"\\n    return a ** 2', 'def square1(a):\\n   \"\"\"return the square of a.\"\"\"\\nreturn a ** 2', 'def square1(a):\\n   \"\"\"return the square of a.\"\"\"\\n   return a ** 2', 'def square1(a):\\n    \"\"\"return the square of a.\"\"\"\\n    return a ** 2', \"get_ipython().run_line_magic('pinfo', 'square1')\", \"get_ipython().run_line_magic('pinfo', 'len')\", 'def square1(a):\\n    #内嵌文档\\n    \"\"\"return the square of a.\"\"\"\\n    return a ** 2', \"get_ipython().run_line_magic('pinfo', 'square1')\", \"get_ipython().run_line_magic('pinfo2', 'square1')\", 'L.<TAB>', 'L=[1,2,3]\\nL.<TAB>', 'L=[1,2,3]\\n#L.<TAB> 这个是指按下TAB键的意思\\nL.clear', 'L=[1,2,3]\\n#L.<TAB> 这个是指按下TAB键的意思 会弹出对象的属性列表\\nL.clear\\ndir(L)', 'L=[1,2,3]\\n#L.<TAB> 这个是指按下TAB键的意思 会弹出对象的属性列表\\nL.clear\\n#dir会直接弹出所有的\\n#dir(L)', '#进一步缩小列表 例如我只想查看c开头的属性\\n#L.c<TAB>', '#进一步缩小列表 例如我只想查看c开头的属性\\n#L.c<TAB>\\nL.copy', '#python中常见的__XXX___命名的属性为私有属性\\n#L._<TAB>可用于查看私有属性', 'from itertools import combinations', '#也可以用来自动补全查找可导入的包', '#也可以用来自动补全查找可导入的包\\n#import <TAB>\\nimport numpy', \"get_ipython().run_line_magic('psearch', '*warning')\", '*warning', \"get_ipython().run_line_magic('psearch', '*warning')\", 'def donothing(x):\\n       return x', \"get_ipython().run_line_magic('Ismagic', '')\", \"get_ipython().run_line_magic('load_ext', 'autoreload')\\nget_ipython().run_line_magic('Ismagic', '')\", \"get_ipython().run_line_magic('load_ext', 'autoreload')\\nget_ipython().run_line_magic('Ismagic', '')\", 'import IPython\\nprint(IPython.__version__)', \"get_ipython().run_line_magic('load_ext', 'autoreload')\\nget_ipython().run_line_magic('Ismagic', '')\", 'print(In)', 'print(In)']\n"
     ]
    }
   ],
   "source": [
    "print(In)\n",
    "#实际上In对象是一个列表，列表第一项是一个占位符，使得In[1]表示的是第一个命令"
   ]
  },
  {
   "cell_type": "code",
   "execution_count": 38,
   "id": "0e1d6c70",
   "metadata": {},
   "outputs": [
    {
     "data": {
      "text/plain": [
       "{18: <function list.clear()>,\n",
       " 19: ['__add__',\n",
       "  '__class__',\n",
       "  '__class_getitem__',\n",
       "  '__contains__',\n",
       "  '__delattr__',\n",
       "  '__delitem__',\n",
       "  '__dir__',\n",
       "  '__doc__',\n",
       "  '__eq__',\n",
       "  '__format__',\n",
       "  '__ge__',\n",
       "  '__getattribute__',\n",
       "  '__getitem__',\n",
       "  '__getstate__',\n",
       "  '__gt__',\n",
       "  '__hash__',\n",
       "  '__iadd__',\n",
       "  '__imul__',\n",
       "  '__init__',\n",
       "  '__init_subclass__',\n",
       "  '__iter__',\n",
       "  '__le__',\n",
       "  '__len__',\n",
       "  '__lt__',\n",
       "  '__mul__',\n",
       "  '__ne__',\n",
       "  '__new__',\n",
       "  '__reduce__',\n",
       "  '__reduce_ex__',\n",
       "  '__repr__',\n",
       "  '__reversed__',\n",
       "  '__rmul__',\n",
       "  '__setattr__',\n",
       "  '__setitem__',\n",
       "  '__sizeof__',\n",
       "  '__str__',\n",
       "  '__subclasshook__',\n",
       "  'append',\n",
       "  'clear',\n",
       "  'copy',\n",
       "  'count',\n",
       "  'extend',\n",
       "  'index',\n",
       "  'insert',\n",
       "  'pop',\n",
       "  'remove',\n",
       "  'reverse',\n",
       "  'sort'],\n",
       " 20: <function list.clear()>,\n",
       " 22: <function list.copy()>}"
      ]
     },
     "execution_count": 38,
     "metadata": {},
     "output_type": "execute_result"
    }
   ],
   "source": [
    "Out\n",
    "#out对象是一个字典，会将数字映射到输出（如果有输出的话）\n",
    "#因此我可以使用 Out[xx]来引用我之前运算结果"
   ]
  },
  {
   "cell_type": "markdown",
   "id": "266eed4a",
   "metadata": {},
   "source": [
    "(_ )下划快捷键用于获取更新以前的输出"
   ]
  },
  {
   "cell_type": "code",
   "execution_count": 42,
   "id": "e8ef990f",
   "metadata": {},
   "outputs": [
    {
     "data": {
      "text/plain": [
       "0.9092974268256817"
      ]
     },
     "execution_count": 42,
     "metadata": {},
     "output_type": "execute_result"
    }
   ],
   "source": [
    "import math\n",
    "math.sin(2)"
   ]
  },
  {
   "cell_type": "code",
   "execution_count": 43,
   "id": "02332d2c",
   "metadata": {},
   "outputs": [
    {
     "name": "stdout",
     "output_type": "stream",
     "text": [
      "0.9092974268256817\n"
     ]
    }
   ],
   "source": [
    "print(_)"
   ]
  },
  {
   "cell_type": "code",
   "execution_count": 44,
   "id": "4f0e8b9e",
   "metadata": {},
   "outputs": [
    {
     "name": "stdout",
     "output_type": "stream",
     "text": [
      "<built-in method copy of list object at 0x0000026802185600>\n"
     ]
    }
   ],
   "source": [
    "print(__)\n",
    "#这是用于我的In[42]没有输出"
   ]
  },
  {
   "cell_type": "code",
   "execution_count": 45,
   "id": "29592122",
   "metadata": {},
   "outputs": [
    {
     "data": {
      "text/plain": [
       "<function list.copy()>"
      ]
     },
     "execution_count": 45,
     "metadata": {},
     "output_type": "execute_result"
    }
   ],
   "source": [
    "#Out[x]简写形式_x\n",
    "_22"
   ]
  },
  {
   "cell_type": "code",
   "execution_count": null,
   "id": "6b89c3cf",
   "metadata": {},
   "outputs": [],
   "source": []
  }
 ],
 "metadata": {
  "kernelspec": {
   "display_name": "Python 3 (ipykernel)",
   "language": "python",
   "name": "python3"
  },
  "language_info": {
   "codemirror_mode": {
    "name": "ipython",
    "version": 3
   },
   "file_extension": ".py",
   "mimetype": "text/x-python",
   "name": "python",
   "nbconvert_exporter": "python",
   "pygments_lexer": "ipython3",
   "version": "3.11.5"
  }
 },
 "nbformat": 4,
 "nbformat_minor": 5
}
